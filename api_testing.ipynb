{
 "cells": [
  {
   "cell_type": "code",
   "execution_count": 75,
   "metadata": {},
   "outputs": [],
   "source": [
    "import requests\n",
    "import pandas as pd\n",
    "from IPython.core.display import display, HTML\n",
    "\n",
    "BASE_URL = \"https://www.predictit.org/api/marketdata/markets/\"\n",
    "DEM_NOM_ID = 3633\n",
    "REP_NOM_ID = 3653\n",
    "PRES_ID = 3698\n",
    "PARTY_ID = 2721\n",
    "\n",
    "HEADERS = {'Content-Type':'application/json'}\n",
    "PARAMETERS = {'id': str(id), 'responseType': 'JSON'}\n",
    "\n",
    "\n",
    "def request_api(id):\n",
    "    # Make request\n",
    "    response = requests.get(url=BASE_URL + str(id), json=PARAMETERS, headers=HEADERS)\n",
    "    df = pd.DataFrame(response.json())\n",
    "    df = pd.concat([df.drop(['contracts', 'shortName', 'name', 'image'], axis=1), df['contracts'].apply(pd.Series)], axis=1)\n",
    "    return df\n"
   ]
  },
  {
   "cell_type": "code",
   "execution_count": 76,
   "metadata": {},
   "outputs": [],
   "source": [
    "def get_current_cands():\n",
    "    # Get presidential candidate list, add new columns with defaults\n",
    "    pres_candidates = request_api(PRES_ID)[['name','image','lastTradePrice']].rename(columns={'lastTradePrice':'presidentPrice'})\n",
    "    pres_candidates['dem'] = False\n",
    "    pres_candidates['rep'] = False\n",
    "    pres_candidates['nominationPrice'] = None\n",
    "\n",
    "    # Get party candidates\n",
    "    dem_candidates = request_api(DEM_NOM_ID)[['name','image','lastTradePrice']].rename(columns={'lastTradePrice':'nominationPrice'})\n",
    "    rep_candidates = request_api(REP_NOM_ID)[['name','image','lastTradePrice']].rename(columns={'lastTradePrice':'nominationPrice'})\n",
    "    \n",
    "    # Loop through each, merge in nomination price and set party\n",
    "    for name in pres_candidates['name']:\n",
    "        if name in dem_candidates['name'].unique():\n",
    "            pres_candidates.loc[pres_candidates['name'] == name,'dem'] = True\n",
    "            pres_candidates.loc[pres_candidates['name'] == name,'nominationPrice'] = dem_candidates.loc[dem_candidates['name'] == name,'nominationPrice'].unique()\n",
    "\n",
    "    for name in pres_candidates['name']:\n",
    "        if name in rep_candidates['name'].unique():\n",
    "            pres_candidates.loc[pres_candidates['name'] == name,'rep'] = True\n",
    "            pres_candidates.loc[pres_candidates['name'] == name,'nominationPrice'] = rep_candidates.loc[rep_candidates['name'] == name,'nominationPrice'].unique()\n",
    "    \n",
    "    # Calculate conditional probability\n",
    "    pres_candidates['conditionalProbability'] = pres_candidates['presidentPrice']/pres_candidates['nominationPrice']\n",
    "    \n",
    "    # Drop low candidates, give dumb numbers\n",
    "    pres_candidates = pres_candidates[pres_candidates['presidentPrice'] > 0.02]\n",
    "    \n",
    "    # Sort by Party, Conditional Probability\n",
    "    pres_candidates = pres_candidates.sort_values(by=['rep', 'conditionalProbability'], ascending=False)\n",
    "\n",
    "    return pres_candidates"
   ]
  },
  {
   "cell_type": "code",
   "execution_count": 96,
   "metadata": {
    "scrolled": false
   },
   "outputs": [],
   "source": [
    "def html_cand_table():\n",
    "    df = get_current_cands()\n",
    "    df['image'] = '<img src=\"' + df['image'].astype(str) + '>'\n",
    "    df['conditionalProbability'] = df['conditionalProbability']*100\n",
    "    df['chance to win given their nomination'] = df['conditionalProbability'].map('{:,.2f}%'.format)\n",
    "    df['party'] = 'Democrat'\n",
    "    df.loc[df['rep'] == True,'party'] = 'Republican'\n",
    "    df = df[['name', 'image', 'party', 'chance to win given their nomination']]\n",
    "    return df.to_html()"
   ]
  },
  {
   "cell_type": "code",
   "execution_count": 97,
   "metadata": {},
   "outputs": [
    {
     "data": {
      "text/plain": [
       "'<table border=\"1\" class=\"dataframe\">\\n  <thead>\\n    <tr style=\"text-align: right;\">\\n      <th></th>\\n      <th>name</th>\\n      <th>image</th>\\n      <th>party</th>\\n      <th>chance to win given their nomination</th>\\n    </tr>\\n  </thead>\\n  <tbody>\\n    <tr>\\n      <th>0</th>\\n      <td>Donald Trump</td>\\n      <td>&lt;img src=\"https://az620379.vo.msecnd.net/image...</td>\\n      <td>Republican</td>\\n      <td>44.16%</td>\\n    </tr>\\n    <tr>\\n      <th>6</th>\\n      <td>Mike Pence</td>\\n      <td>&lt;img src=\"https://az620379.vo.msecnd.net/image...</td>\\n      <td>Republican</td>\\n      <td>40.00%</td>\\n    </tr>\\n    <tr>\\n      <th>2</th>\\n      <td>Bernie Sanders</td>\\n      <td>&lt;img src=\"https://az620379.vo.msecnd.net/image...</td>\\n      <td>Democrat</td>\\n      <td>82.61%</td>\\n    </tr>\\n    <tr>\\n      <th>1</th>\\n      <td>Joe Biden</td>\\n      <td>&lt;img src=\"https://az620379.vo.msecnd.net/image...</td>\\n      <td>Democrat</td>\\n      <td>76.00%</td>\\n    </tr>\\n    <tr>\\n      <th>4</th>\\n      <td>Beto O\\'Rourke</td>\\n      <td>&lt;img src=\"https://az620379.vo.msecnd.net/image...</td>\\n      <td>Democrat</td>\\n      <td>68.75%</td>\\n    </tr>\\n    <tr>\\n      <th>3</th>\\n      <td>Kamala Harris</td>\\n      <td>&lt;img src=\"https://az620379.vo.msecnd.net/image...</td>\\n      <td>Democrat</td>\\n      <td>64.71%</td>\\n    </tr>\\n    <tr>\\n      <th>8</th>\\n      <td>Amy Klobuchar</td>\\n      <td>&lt;img src=\"https://az620379.vo.msecnd.net/image...</td>\\n      <td>Democrat</td>\\n      <td>60.00%</td>\\n    </tr>\\n    <tr>\\n      <th>5</th>\\n      <td>Cory Booker</td>\\n      <td>&lt;img src=\"https://az620379.vo.msecnd.net/image...</td>\\n      <td>Democrat</td>\\n      <td>57.14%</td>\\n    </tr>\\n    <tr>\\n      <th>7</th>\\n      <td>Elizabeth Warren</td>\\n      <td>&lt;img src=\"https://az620379.vo.msecnd.net/image...</td>\\n      <td>Democrat</td>\\n      <td>42.86%</td>\\n    </tr>\\n  </tbody>\\n</table>'"
      ]
     },
     "execution_count": 97,
     "metadata": {},
     "output_type": "execute_result"
    }
   ],
   "source": [
    "html_cand_table()"
   ]
  },
  {
   "cell_type": "code",
   "execution_count": null,
   "metadata": {},
   "outputs": [],
   "source": []
  }
 ],
 "metadata": {
  "kernelspec": {
   "display_name": "Python 3",
   "language": "python",
   "name": "python3"
  },
  "language_info": {
   "codemirror_mode": {
    "name": "ipython",
    "version": 3
   },
   "file_extension": ".py",
   "mimetype": "text/x-python",
   "name": "python",
   "nbconvert_exporter": "python",
   "pygments_lexer": "ipython3",
   "version": "3.6.5"
  }
 },
 "nbformat": 4,
 "nbformat_minor": 2
}
